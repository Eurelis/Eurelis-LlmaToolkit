{
 "cells": [
  {
   "cell_type": "markdown",
   "metadata": {},
   "source": [
    "# Test Filters dans ChatEngine"
   ]
  },
  {
   "cell_type": "code",
   "execution_count": null,
   "metadata": {},
   "outputs": [],
   "source": [
    "import sys\n",
    "from dotenv import load_dotenv\n",
    "\n",
    "sys.path.append('../../src')\n",
    "load_dotenv('../../src/.env')"
   ]
  },
  {
   "cell_type": "markdown",
   "metadata": {},
   "source": [
    "## LlmaToolkit Config Setup"
   ]
  },
  {
   "cell_type": "code",
   "execution_count": null,
   "metadata": {},
   "outputs": [],
   "source": [
    "from eurelis_llmatoolkit.llamaindex.config_loader import ConfigLoader\n",
    "\n",
    "config_dict = ConfigLoader.load_config(\"../config_samples/llmatk_config.json\")\n",
    "config_dict"
   ]
  },
  {
   "cell_type": "markdown",
   "metadata": {},
   "source": [
    "## Création des filtres"
   ]
  },
  {
   "cell_type": "code",
   "execution_count": 2,
   "metadata": {},
   "outputs": [],
   "source": [
    "from llama_index.core.vector_stores import (\n",
    "    MetadataFilter,\n",
    "    MetadataFilters,\n",
    "    FilterOperator,\n",
    "    FilterCondition\n",
    ")\n",
    "\n",
    "filters_1 = MetadataFilters(\n",
    "    filters=[\n",
    "        MetadataFilter(\n",
    "            key=\"c_product\",\n",
    "            operator=FilterOperator.EQ,\n",
    "            value=\"product-flexacryl-instant-waterproof-compound\",\n",
    "        )\n",
    "    ]\n",
    ")\n",
    "\n",
    "filters_2 = MetadataFilters(\n",
    "    filters=[\n",
    "        MetadataFilter(\n",
    "            key=\"c_product\",\n",
    "            operator=FilterOperator.EQ,\n",
    "            value=\"bostik-product-uk-pliogrip-3540-eu\",\n",
    "        )\n",
    "    ]\n",
    ")\n",
    "\n",
    "# product-bostik-fp403-fireseal-polymer-sealant"
   ]
  },
  {
   "cell_type": "code",
   "execution_count": 3,
   "metadata": {},
   "outputs": [],
   "source": [
    "from  eurelis_llmatoolkit.llamaindex.chatbot_wrapper import ChatbotWrapper\n",
    "\n",
    "class ChatEngine:\n",
    "    def __init__(self, query, id_conversation, filters):\n",
    "        \"\"\"\n",
    "        Initialisation du chatbot avec une requête, un ID de conversation et les filtres\n",
    "        \"\"\"\n",
    "        self.query = query\n",
    "        self.id_conversation = id_conversation\n",
    "        self.filters = filters\n",
    "        self.wrapper = ChatbotWrapper(config=config_dict, conversation_id=id_conversation, permanent_filters=filters_1)\n",
    "        # self.wrapper = ChatbotWrapper(config=config_dict, conversation_id=id_conversation)\n",
    "        \n",
    "    def chat(self):\n",
    "        \"\"\"\n",
    "        Exécuter la requête utilisateur et obtenir la réponse du chatbot\n",
    "        \"\"\"\n",
    "        # custom_retriever = self.wrapper._get_retriever(config=config_dict.get(\"chat_engine\", \"\"), filters=filters)\n",
    "        # self.wrapper._chat_engine._retriever = retriever\n",
    "        return self.wrapper.run(self.query, self.filters, FilterCondition.OR)"
   ]
  },
  {
   "cell_type": "markdown",
   "metadata": {},
   "source": [
    "## Exécution"
   ]
  },
  {
   "cell_type": "code",
   "execution_count": 6,
   "metadata": {},
   "outputs": [],
   "source": [
    "def run_chatengine():\n",
    "    print(\"Début de la conversation\")\n",
    "    # id_conversation = input(\"Entrez l'ID de la conversation : \")\n",
    "    id_conversation = \"id_conversation_test_filters\"\n",
    "    # id_conversation = \"id_conversation_test_filters_2\"\n",
    "    while True:\n",
    "        query = input(\"Votre requête (tapez 'exit' pour quitter) : \")\n",
    "        # query = \"Tell me about flaxacril\"\n",
    "        if query.lower() == \"exit\":\n",
    "            print(\"Session terminée.\")\n",
    "            break\n",
    "\n",
    "        chatengine = ChatEngine(query=query, id_conversation=id_conversation, filters=filters_2)\n",
    "        response = chatengine.chat()\n",
    "        \n",
    "        print(\"Query : {query}\")\n",
    "        print(f\"Metadata : {response.source_nodes[0].node.metadata}\")\n",
    "        print(f\"Chatbot : {response}\")\n",
    "        print(\"________________\")"
   ]
  },
  {
   "cell_type": "code",
   "execution_count": null,
   "metadata": {},
   "outputs": [],
   "source": [
    "if __name__ == \"__main__\":\n",
    "    run_chatengine()"
   ]
  }
 ],
 "metadata": {
  "kernelspec": {
   "display_name": ".venv",
   "language": "python",
   "name": "python3"
  },
  "language_info": {
   "codemirror_mode": {
    "name": "ipython",
    "version": 3
   },
   "file_extension": ".py",
   "mimetype": "text/x-python",
   "name": "python",
   "nbconvert_exporter": "python",
   "pygments_lexer": "ipython3",
   "version": "3.11.3"
  }
 },
 "nbformat": 4,
 "nbformat_minor": 2
}
