{
 "cells": [
  {
   "cell_type": "markdown",
   "metadata": {},
   "source": [
    "# Test Custom Prompt dans ChatEngine"
   ]
  },
  {
   "cell_type": "markdown",
   "metadata": {},
   "source": [
    "## LlmaToolkit Config Setup"
   ]
  },
  {
   "cell_type": "code",
   "execution_count": 9,
   "metadata": {},
   "outputs": [],
   "source": [
    "from eurelis_llmatoolkit.llamaindex.config_loader import ConfigLoader\n",
    "\n",
    "config_dict = ConfigLoader.load_config(\"../etc/config_samples/llmatk_config.json\")"
   ]
  },
  {
   "cell_type": "markdown",
   "metadata": {},
   "source": [
    "## Définition du prompt"
   ]
  },
  {
   "cell_type": "code",
   "execution_count": 10,
   "metadata": {},
   "outputs": [],
   "source": [
    "custom_system_prompt = \"Start always your answer with 'Bonjour petite loutre'\""
   ]
  },
  {
   "cell_type": "code",
   "execution_count": 11,
   "metadata": {},
   "outputs": [],
   "source": [
    "from  eurelis_llmatoolkit.llamaindex.chatbot_wrapper import ChatbotWrapper\n",
    "\n",
    "class ChatEngine:\n",
    "    def __init__(self, query, id_conversation, filters, custom_system_prompt):\n",
    "        \"\"\"\n",
    "        Initialisation du chatbot avec une requête, un ID de conversation et les filtres\n",
    "        \"\"\"\n",
    "        self.query = query\n",
    "        self.id_conversation = id_conversation\n",
    "        self.filters = filters\n",
    "        self.custom_system_prompt = custom_system_prompt\n",
    "        self.wrapper = ChatbotWrapper(config=config_dict)\n",
    "        \n",
    "    def chat(self):\n",
    "        \"\"\"\n",
    "        Exécuter la requête utilisateur et obtenir la réponse du chatbot\n",
    "        \"\"\"\n",
    "        # custom_retriever = self.wrapper._get_retriever(config=config_dict.get(\"chat_engine\", \"\"), filters=filters)\n",
    "        # self.wrapper._chat_engine._retriever = retriever\n",
    "        return self.wrapper.run(self.id_conversation, self.query, self.filters, self.custom_system_prompt)"
   ]
  },
  {
   "cell_type": "markdown",
   "metadata": {},
   "source": [
    "## Exécution"
   ]
  },
  {
   "cell_type": "code",
   "execution_count": 12,
   "metadata": {},
   "outputs": [],
   "source": [
    "def run_chatengine():\n",
    "    print(\"Début de la conversation\")\n",
    "    # id_conversation = input(\"Entrez l'ID de la conversation : \")\n",
    "    id_conversation = \"id_conversation_test_filters\"\n",
    "    while True:\n",
    "        query = input(\"Votre requête (tapez 'exit' pour quitter) : \")\n",
    "        # query = \"Tell me about flaxacril\"\n",
    "        if query.lower() == \"exit\":\n",
    "            print(\"Session terminée.\")\n",
    "            break\n",
    "\n",
    "        chatengine = ChatEngine(query=query, id_conversation=id_conversation, filters=None, custom_system_prompt=custom_system_prompt)\n",
    "        response = chatengine.chat()\n",
    "        \n",
    "        print(f\"Metadata : {response.source_nodes[0].node.metadata}\")\n",
    "        print(f\"Chatbot : {response}\")"
   ]
  },
  {
   "cell_type": "code",
   "execution_count": 13,
   "metadata": {},
   "outputs": [
    {
     "name": "stdout",
     "output_type": "stream",
     "text": [
      "Début de la conversation\n",
      "Metadata : {'c_country': 'United Kingdom', 'c_pageType': 'standard-page', 'c_contentId': '4a1b0320-0cf6-4c5f-8532-a61579faf669', 'c_language': 'en', 'source': 'https://www.bostik.com/uk/en_GB/terms-conditions/', 'namespace': 'llamaindex/sitemap', 'lastmod': 'Tue Jun 18 13:29:15 UTC 2024', 'project': 'llamaindex', 'generated_content': True, 'generated_content_mode': 'QAndA', 'generated_content_origin': '\\\\----- \\\\---------- Bostik credit appl Hussein ---------- Customer accepts the Company’s obligation to replace defective goods as its sole remedy for loss or damage resulting from defective goods. (2) No claim under paragraph (1) of this Condition will be entertained unless: (a) the Customer has complied with all instructions given by the Company concerning the manner in which the goods should be stored and/or used: and (b) the Customer has within 7 days after the end of the Defects Liability Period given written notice to the Company of the alleged defect and has, where possible, returned the goods in question carriage paid to the Company’s works. (3) The Customer will always afford the Company a reasonable opportunity to remedy at its own cost any breach of contract for which the Company may be considered responsible. (4) Subject only to the foregoing provisions of this Condition the liability of the Company for any claims for direct injury, loss or damage (whether in contract or in tort including negligence on the part of the Company its servants or agents) arising out of any defect in the goods and/or services or any misrepresentation, act, omission, neglect or default of the Company in the performance of any contract between the Company and the Customer including but not limited to breach of any condition or warranty whether express or implied by statute common law or otherwise shall be limited to the contract price of such goods or services the subject of any such claim or claims or in any other case to the total contract price payable by the Customer under that contract whichever is less. (5) The Company is not liable for any claims for indirect or consequential injury, loss or damage (including but not limited to loss or profit, loss of production, loss of opportunity and special damages whether the likelihood thereof is notified by the Customer to the Company prior to the contract or not) whether in contract or in tort (including negligence on the part of the Company, its servants or agents) arising out of or in connection with any such defect misrepresentation, act omission neglect or default referred to in paragraph (4) of this Condition. (6) Nothing in this Condition will limit or exclude the liability of the Company in respect of death or personal injury resulting from the negligence of the Company, its servants or agents or exclude in relation to goods the conditions and warranties implied by Section 12 of the Sale of Goods Act 1979. **9 DAMAGE OR LOSS IN TRANSIT** No claim for damage in transit or shortage in delivery will be entertained unless notice in writing is given to both the carrier concerned and to the Company within 3 days of delivery followed immediately by a detailed and complete claim in writing. In the event of loss or destruction of goods in transit advice of nondelivery must be submitted in writing to both the carrier and to the Company within 3 days of the date of receipt by the Customer of the invoice relating to the destroyed or lost goods. Subject to its acceptance of any such claims, the Company will replace free of charge goods lost, destroyed or damaged in transit but shall be under no further liability of the Customer in respect thereof. **10.'}\n",
      "Chatbot : Bonjour petite loutre! How can I help you today?\n",
      "Session terminée.\n"
     ]
    }
   ],
   "source": [
    "if __name__ == \"__main__\":\n",
    "    run_chatengine()"
   ]
  },
  {
   "cell_type": "markdown",
   "metadata": {},
   "source": [
    "## Exemple de prompt custom\n",
    "\n",
    "<!-- from llama_index.legacy.prompts import ChatPromptTemplate, ChatMessage, MessageRole\n",
    "\n",
    "# Définir le template de message\n",
    "message_templates = [\n",
    "    ChatMessage(content=\"Vous êtes un assistant expert.\", role=MessageRole.SYSTEM),\n",
    "    ChatMessage(content=\"Générez une histoire courte sur {topic}\", role=MessageRole.USER),\n",
    "]\n",
    "\n",
    "# Créer le template de chat\n",
    "chat_template = ChatPromptTemplate(message_templates=message_templates)\n",
    "\n",
    "# Formater les messages pour l'API de chat\n",
    "messages = chat_template.format_messages(topic=\"un chevalier courageux\") -->\n"
   ]
  }
 ],
 "metadata": {
  "kernelspec": {
   "display_name": ".venv",
   "language": "python",
   "name": "python3"
  },
  "language_info": {
   "codemirror_mode": {
    "name": "ipython",
    "version": 3
   },
   "file_extension": ".py",
   "mimetype": "text/x-python",
   "name": "python",
   "nbconvert_exporter": "python",
   "pygments_lexer": "ipython3",
   "version": "3.11.3"
  }
 },
 "nbformat": 4,
 "nbformat_minor": 2
}
