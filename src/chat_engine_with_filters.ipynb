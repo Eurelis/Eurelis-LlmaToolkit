{
 "cells": [
  {
   "cell_type": "markdown",
   "metadata": {},
   "source": [
    "# Test Filters dans ChatEngine"
   ]
  },
  {
   "cell_type": "markdown",
   "metadata": {},
   "source": [
    "## LlmaToolkit Config Setup"
   ]
  },
  {
   "cell_type": "code",
   "execution_count": 1,
   "metadata": {},
   "outputs": [],
   "source": [
    "from eurelis_llmatoolkit.llamaindex.config_loader import ConfigLoader\n",
    "\n",
    "config_dict = ConfigLoader.load_config(\"../etc/config_samples/llmatk_config.json\")"
   ]
  },
  {
   "cell_type": "markdown",
   "metadata": {},
   "source": [
    "## Création des filtres"
   ]
  },
  {
   "cell_type": "code",
   "execution_count": 2,
   "metadata": {},
   "outputs": [],
   "source": [
    "from llama_index.core.vector_stores import (\n",
    "    MetadataFilter,\n",
    "    MetadataFilters,\n",
    "    FilterOperator,\n",
    "    FilterCondition\n",
    ")\n",
    "\n",
    "filters_1 = MetadataFilters(\n",
    "    filters=[\n",
    "        MetadataFilter(\n",
    "            key=\"c_product\",\n",
    "            operator=FilterOperator.EQ,\n",
    "            value=\"product-flexacryl-instant-waterproof-compound\",\n",
    "        )\n",
    "    ]\n",
    ")\n",
    "\n",
    "filters_2 = MetadataFilters(\n",
    "    filters=[\n",
    "        MetadataFilter(\n",
    "            key=\"c_product\",\n",
    "            operator=FilterOperator.EQ,\n",
    "            value=\"bostik-product-uk-pliogrip-3540-eu\",\n",
    "        )\n",
    "    ]\n",
    ")\n",
    "\n",
    "# product-bostik-fp403-fireseal-polymer-sealant"
   ]
  },
  {
   "cell_type": "code",
   "execution_count": 3,
   "metadata": {},
   "outputs": [],
   "source": [
    "from  eurelis_llmatoolkit.llamaindex.chatbot_wrapper import ChatbotWrapper\n",
    "\n",
    "class ChatEngine:\n",
    "    def __init__(self, query, id_conversation, filters):\n",
    "        \"\"\"\n",
    "        Initialisation du chatbot avec une requête, un ID de conversation et les filtres\n",
    "        \"\"\"\n",
    "        self.query = query\n",
    "        self.id_conversation = id_conversation\n",
    "        self.filters = filters\n",
    "        self.wrapper = ChatbotWrapper(config=config_dict, conversation_id=id_conversation, permanent_filters=filters_1)\n",
    "        # self.wrapper = ChatbotWrapper(config=config_dict, conversation_id=id_conversation)\n",
    "        \n",
    "    def chat(self):\n",
    "        \"\"\"\n",
    "        Exécuter la requête utilisateur et obtenir la réponse du chatbot\n",
    "        \"\"\"\n",
    "        # custom_retriever = self.wrapper._get_retriever(config=config_dict.get(\"chat_engine\", \"\"), filters=filters)\n",
    "        # self.wrapper._chat_engine._retriever = retriever\n",
    "        return self.wrapper.run(self.query, self.filters, FilterCondition.OR)"
   ]
  },
  {
   "cell_type": "markdown",
   "metadata": {},
   "source": [
    "## Exécution"
   ]
  },
  {
   "cell_type": "code",
   "execution_count": 6,
   "metadata": {},
   "outputs": [],
   "source": [
    "def run_chatengine():\n",
    "    print(\"Début de la conversation\")\n",
    "    # id_conversation = input(\"Entrez l'ID de la conversation : \")\n",
    "    id_conversation = \"id_conversation_test_filters\"\n",
    "    # id_conversation = \"id_conversation_test_filters_2\"\n",
    "    while True:\n",
    "        query = input(\"Votre requête (tapez 'exit' pour quitter) : \")\n",
    "        # query = \"Tell me about flaxacril\"\n",
    "        if query.lower() == \"exit\":\n",
    "            print(\"Session terminée.\")\n",
    "            break\n",
    "\n",
    "        chatengine = ChatEngine(query=query, id_conversation=id_conversation, filters=filters_2)\n",
    "        response = chatengine.chat()\n",
    "        \n",
    "        print(\"Query : {query}\")\n",
    "        print(f\"Metadata : {response.source_nodes[0].node.metadata}\")\n",
    "        print(f\"Chatbot : {response}\")\n",
    "        print(\"________________\")"
   ]
  },
  {
   "cell_type": "code",
   "execution_count": 7,
   "metadata": {},
   "outputs": [
    {
     "name": "stdout",
     "output_type": "stream",
     "text": [
      "Début de la conversation\n",
      "combined_filters___\n",
      "filters=[MetadataFilter(key='c_product', value='product-flexacryl-instant-waterproof-compound', operator=<FilterOperator.EQ: '=='>), MetadataFilter(key='c_product', value='bostik-product-uk-pliogrip-3540-eu', operator=<FilterOperator.EQ: '=='>)] condition=<FilterCondition.OR: 'or'>\n",
      "Query : {query}\n",
      "Metadata : {'title': 'FLEXACRYL INSTANT REPAIRWATERPROOFING COMPOUND', 'c_country': 'United Kingdom', 'c_product': 'product-flexacryl-instant-waterproof-compound', 'c_regions': ['Europe'], 'c_contentId': 'd3750c2b-fe22-4911-828d-a0a71f14ba75', 'c_language': 'en', 'c_regionCountry': ['United Kingdom'], 'c_market': ['Building & Construction'], 'c_pageType': 'product', 'c_bu': 'Bostik - Consumer & construction (C&C)', 'c_application1': ['Waterproofing'], 'c_application2': ['ROOFING (C&C)'], 'source': 'https://www.bostik.com/uk/en_GB/catalog/product/construction/emea/uk/product-flexacryl-instant-waterproof-compound/', 'namespace': 'bostik-uk/sitemap', 'lastmod': 'Tue Oct 29 12:45:33 UTC 2024', 'project': 'bostik-uk'}\n",
      "Chatbot : Il semble que tu sois intéressé par les produits Fireseal. Ces produits sont utilisés pour assurer la sécurité incendie en scellant les espaces et en empêchant la propagation du feu et de la fumée dans les bâtiments. Si tu as des questions spécifiques sur un produit Fireseal particulier ou sur son application, n'hésite pas à me le faire savoir, et je serai ravi de t'aider davantage !\n",
      "________________\n",
      "Session terminée.\n"
     ]
    }
   ],
   "source": [
    "if __name__ == \"__main__\":\n",
    "    run_chatengine()"
   ]
  }
 ],
 "metadata": {
  "kernelspec": {
   "display_name": ".venv",
   "language": "python",
   "name": "python3"
  },
  "language_info": {
   "codemirror_mode": {
    "name": "ipython",
    "version": 3
   },
   "file_extension": ".py",
   "mimetype": "text/x-python",
   "name": "python",
   "nbconvert_exporter": "python",
   "pygments_lexer": "ipython3",
   "version": "3.11.3"
  }
 },
 "nbformat": 4,
 "nbformat_minor": 2
}
