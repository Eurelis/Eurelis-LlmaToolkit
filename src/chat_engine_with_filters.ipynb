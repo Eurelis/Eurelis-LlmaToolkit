{
 "cells": [
  {
   "cell_type": "markdown",
   "metadata": {},
   "source": [
    "# Test Filters dans ChatEngine"
   ]
  },
  {
   "cell_type": "markdown",
   "metadata": {},
   "source": [
    "## LlmaToolkit Config Setup"
   ]
  },
  {
   "cell_type": "code",
   "execution_count": 1,
   "metadata": {},
   "outputs": [],
   "source": [
    "from eurelis_llmatoolkit.llamaindex.config_loader import ConfigLoader\n",
    "\n",
    "config_dict = ConfigLoader.load_config(\"../etc/config_samples/llmatk_config.json\")"
   ]
  },
  {
   "cell_type": "markdown",
   "metadata": {},
   "source": [
    "## Création des filtres"
   ]
  },
  {
   "cell_type": "code",
   "execution_count": 2,
   "metadata": {},
   "outputs": [],
   "source": [
    "from llama_index.core.vector_stores import (\n",
    "    MetadataFilter,\n",
    "    MetadataFilters,\n",
    "    FilterOperator,\n",
    ")\n",
    "\n",
    "from eurelis_llmatoolkit.llamaindex.chatbot_wrapper import ChatbotWrapper\n",
    "\n",
    "filters = MetadataFilters(\n",
    "    filters=[\n",
    "        MetadataFilter(\n",
    "            key=\"c_product\",\n",
    "            operator=FilterOperator.EQ,\n",
    "            value=\"product-flexacryl-instant-waterproof-compound\",\n",
    "        )\n",
    "    ]\n",
    ")\n",
    "\n"
   ]
  },
  {
   "cell_type": "code",
   "execution_count": 3,
   "metadata": {},
   "outputs": [],
   "source": [
    "from  eurelis_llmatoolkit.llamaindex.chatbot_wrapper import ChatbotWrapper\n",
    "\n",
    "class ChatEngine:\n",
    "    def __init__(self, query, id_conversation, filters):\n",
    "        \"\"\"\n",
    "        Initialisation du chatbot avec une requête, un ID de conversation et les filtres\n",
    "        \"\"\"\n",
    "        self.query = query\n",
    "        self.id_conversation = id_conversation\n",
    "        self.filters = filters\n",
    "        self.wrapper = ChatbotWrapper(config=config_dict)\n",
    "        \n",
    "    def chat(self):\n",
    "        \"\"\"\n",
    "        Exécuter la requête utilisateur et obtenir la réponse du chatbot\n",
    "        \"\"\"\n",
    "        # custom_retriever = self.wrapper._get_retriever(config=config_dict.get(\"chat_engine\", \"\"), filters=filters)\n",
    "        # self.wrapper._chat_engine._retriever = retriever\n",
    "        return self.wrapper.run(self.id_conversation, self.query, self.filters)"
   ]
  },
  {
   "cell_type": "markdown",
   "metadata": {},
   "source": [
    "## Exécution"
   ]
  },
  {
   "cell_type": "code",
   "execution_count": null,
   "metadata": {},
   "outputs": [],
   "source": [
    "def run_chatengine():\n",
    "    print(\"Début de la conversation\")\n",
    "    # id_conversation = input(\"Entrez l'ID de la conversation : \")\n",
    "    id_conversation = \"id_conversation_test_filters\"\n",
    "    while True:\n",
    "        query = input(\"Votre requête (tapez 'exit' pour quitter) : \")\n",
    "        # query = \"Tell me about flaxacril\"\n",
    "        if query.lower() == \"exit\":\n",
    "            print(\"Session terminée.\")\n",
    "            break\n",
    "\n",
    "        chatengine = ChatEngine(query=query, id_conversation=id_conversation, filters=filters)\n",
    "        response = chatengine.chat()\n",
    "        \n",
    "        print(f\"Metadata : {response.source_nodes[0].node.metadata}\")\n",
    "        print(f\"Chatbot : {response}\")"
   ]
  },
  {
   "cell_type": "code",
   "execution_count": 12,
   "metadata": {},
   "outputs": [
    {
     "name": "stdout",
     "output_type": "stream",
     "text": [
      "Bienvenue dans le chatbot interactif.\n",
      "___________response.source_nodes\n",
      "{'c_country': 'United Kingdom', 'c_product': 'product-flexacryl-instant-waterproof-compound', 'c_regions': ['Europe'], 'c_contentId': 'd3750c2b-fe22-4911-828d-a0a71f14ba75', 'c_language': 'en', 'c_regionCountry': ['United Kingdom'], 'c_market': ['Building & Construction'], 'c_pageType': 'product', 'c_bu': 'Bostik - Consumer & construction (C&C)', 'c_application1': ['Waterproofing'], 'c_application2': ['ROOFING (C&C)'], 'source': 'https://www.bostik.com/uk/en_GB/catalog/product/construction/emea/uk/product-flexacryl-instant-waterproof-compound/', 'namespace': 'llamaindex/sitemap', 'lastmod': 'Tue Oct 29 12:45:33 UTC 2024', 'project': 'llamaindex', 'generated_content': True, 'generated_content_mode': 'QAndA', 'generated_content_origin': 'jpg Bituminous Roof Felt Adhesive Product Cold-applied, solvent-based bituminous roof felt adhesive Read more bostik-flashband-10m.jpg FLASHBAND Product Bostik Flashband Self Adhesive Flashing Tape for Roofs is a flexible bitumen strip that bonds instantly to most building materials . Read more Bostik Flashband Primer SV 500ml Black - 30812257.jpg FLASHBAND PRIMER SV Product Solution designed to prepare porous or dusty surfaces before application of Bostik Flashband Read more bostik-uk-flexacryl-instant-repair-waterproofing-compound-main-6 FLEXACRYL INSTANT REPAIR WATERPROOFING COMPOUND Product Flexible, single-coat waterproofing compound for flat roofs Read more bostik-uk-flexacryl-instant-repair-waterproofing-coating-main-64 FLEXACRYL QUICK DRYING WATERPROOFING COATING Product Fast-drying, solvent-free roof coating Read more Bostik Penetration Primer for Roofs 1L Black - 30811883.jpg PENETRATION PRIMER FOR ROOFS Product General purpose, highly penetrative primer Read more Bostik Solvent Free Waterproofer for Roofs 5L Black - 30811685.jpg SOLVENT-FREE WATERPROOFER FOR ROOFS Product Flexible emulsion for use on all common roof surfaces Read more \\\\---------- PDF Document ---------- # Flexacryl Instant Repair ## WATERPROOFER FOR FLAT ROOFS TECHNICAL SHEET NO: TDS00262 25/10/2024 **SMART ADVANTAGES** \\\\- Instantly waterproofs, ideal for emergency repairs or maintenance \\\\- Apply to wet or dry surfaces \\\\- Fibre-reinforced for strength & flexibility **DESCRIPTION** Bostik Flexacryl Instant Repair is a flexible, fibre-reinforced roof repair coating that immediately waterproofs most conventional roofing substrates in one coat. It is ideal for emergency roof repairs or general maintenance. It can be applied to wet or dry surfaces and will withstand the rigours of ponding, making it ideal for use in gulleys and over cracks in edge details, vents, upstands and more. The fibres in Bostik Flexacryl bridge small cracks and enable the coating to flex with changes in temperature. Apply Bostik Flexacryl straight from the tin in one coat onto roofing substrates such as old roofing felt, asphalt, bituminous roof coatings, cement, concrete, leadwork, metal, brickwork, slate and rigid PVC (Polyvinyl Chloride). No primer is required on sound, nonporous substrates.'}\n",
      "Metadata : {'c_country': 'United Kingdom', 'c_product': 'product-flexacryl-instant-waterproof-compound', 'c_regions': ['Europe'], 'c_contentId': 'd3750c2b-fe22-4911-828d-a0a71f14ba75', 'c_language': 'en', 'c_regionCountry': ['United Kingdom'], 'c_market': ['Building & Construction'], 'c_pageType': 'product', 'c_bu': 'Bostik - Consumer & construction (C&C)', 'c_application1': ['Waterproofing'], 'c_application2': ['ROOFING (C&C)'], 'source': 'https://www.bostik.com/uk/en_GB/catalog/product/construction/emea/uk/product-flexacryl-instant-waterproof-compound/', 'namespace': 'llamaindex/sitemap', 'lastmod': 'Tue Oct 29 12:45:33 UTC 2024', 'project': 'llamaindex', 'generated_content': True, 'generated_content_mode': 'QAndA', 'generated_content_origin': 'jpg Bituminous Roof Felt Adhesive Product Cold-applied, solvent-based bituminous roof felt adhesive Read more bostik-flashband-10m.jpg FLASHBAND Product Bostik Flashband Self Adhesive Flashing Tape for Roofs is a flexible bitumen strip that bonds instantly to most building materials . Read more Bostik Flashband Primer SV 500ml Black - 30812257.jpg FLASHBAND PRIMER SV Product Solution designed to prepare porous or dusty surfaces before application of Bostik Flashband Read more bostik-uk-flexacryl-instant-repair-waterproofing-compound-main-6 FLEXACRYL INSTANT REPAIR WATERPROOFING COMPOUND Product Flexible, single-coat waterproofing compound for flat roofs Read more bostik-uk-flexacryl-instant-repair-waterproofing-coating-main-64 FLEXACRYL QUICK DRYING WATERPROOFING COATING Product Fast-drying, solvent-free roof coating Read more Bostik Penetration Primer for Roofs 1L Black - 30811883.jpg PENETRATION PRIMER FOR ROOFS Product General purpose, highly penetrative primer Read more Bostik Solvent Free Waterproofer for Roofs 5L Black - 30811685.jpg SOLVENT-FREE WATERPROOFER FOR ROOFS Product Flexible emulsion for use on all common roof surfaces Read more \\\\---------- PDF Document ---------- # Flexacryl Instant Repair ## WATERPROOFER FOR FLAT ROOFS TECHNICAL SHEET NO: TDS00262 25/10/2024 **SMART ADVANTAGES** \\\\- Instantly waterproofs, ideal for emergency repairs or maintenance \\\\- Apply to wet or dry surfaces \\\\- Fibre-reinforced for strength & flexibility **DESCRIPTION** Bostik Flexacryl Instant Repair is a flexible, fibre-reinforced roof repair coating that immediately waterproofs most conventional roofing substrates in one coat. It is ideal for emergency roof repairs or general maintenance. It can be applied to wet or dry surfaces and will withstand the rigours of ponding, making it ideal for use in gulleys and over cracks in edge details, vents, upstands and more. The fibres in Bostik Flexacryl bridge small cracks and enable the coating to flex with changes in temperature. Apply Bostik Flexacryl straight from the tin in one coat onto roofing substrates such as old roofing felt, asphalt, bituminous roof coatings, cement, concrete, leadwork, metal, brickwork, slate and rigid PVC (Polyvinyl Chloride). No primer is required on sound, nonporous substrates.'}\n",
      "Chatbot : Hi! If you have any questions or need assistance, feel free to let me know. I'm here to help!\n",
      "___________response.source_nodes\n",
      "{'c_country': 'United Kingdom', 'c_product': 'product-flexacryl-instant-waterproof-compound', 'c_regions': ['Europe'], 'c_contentId': 'd3750c2b-fe22-4911-828d-a0a71f14ba75', 'c_language': 'en', 'c_regionCountry': ['United Kingdom'], 'c_market': ['Building & Construction'], 'c_pageType': 'product', 'c_bu': 'Bostik - Consumer & construction (C&C)', 'c_application1': ['Waterproofing'], 'c_application2': ['ROOFING (C&C)'], 'source': 'https://www.bostik.com/uk/en_GB/catalog/product/construction/emea/uk/product-flexacryl-instant-waterproof-compound/', 'namespace': 'llamaindex/sitemap', 'lastmod': 'Tue Oct 29 12:45:33 UTC 2024', 'project': 'llamaindex', 'generated_content': True, 'generated_content_mode': 'QAndA', 'generated_content_origin': \"The Company's total liability however arising and whether caused by tort (including negligence and breach of statutory duty), breach of contract or otherwise, arising in connection with the use made or resale by the Product User of any of the Products in this TDS (Technical Data Sheet) shall be limited to the price paid for the Product by the Product User. The Company shall not be liable to the Product User for any pure economic loss, loss of profit, loss of business, depletion of goodwill or otherwise, in each case whether direct, indirect or consequential, or any claims (including in respect of personal injury insofar as not caused by the Company's negligence) for consequential compensation whatsoever (howsoever caused) which arise out of or in connection with the use made or resale by the Product User of any of the Products in this TDS (Technical Data Sheet). The Company shall not be liable to the Product User in relation to any loss for any use that is inappropriate or use that is otherwise than in accordance with the relevant instructions for use of the Products in this TDS (Technical Data Sheet) or on the Product. Product Users are advised to confirm the suitability of the Products by their own tests. This TDS (Technical Data Sheet) covers just one of a large range of products supplied by the Company. Full information on these products and advice on application is freely available from our fully trained staff throughout the country. In addition, specialist technical advice is available from our Technical Services Department. This TDS (Technical Data Sheet) supersedes all previous TDSs relating to the Products, and users of it must ensure that it is the current issue. Destroy all previous TDS (Technical Data Sheet), and if in any doubt, contact the Company, quoting the code number in the top left-hand corner on the front of this document. Telephone: 01785 272625 Sales: [customer.service@bostik.com](mailto:customer.service@bostik.com) Technical advice: [technical.service@bostik.com](mailto:technical.service@bostik.com) Safety data sheets: sds.box-eu@bostik.com **DISCLAIMER** Bostik offers this Technical Data Sheet (“TDS (Technical Data Sheet)”) for descriptive and informational use only. It is not a warranty, a contract or a substitute for expert or professional advice. Please also see the local product Safety Data Sheet for health and safety considerations. The statements, technical information, data, and recommendations contained in this TDS (Technical Data Sheet) are provided ‘AS IS’ and are not warranted or guaranteed in any way. They represent typical results for the products and are based on Bostik’s research only.\"}\n",
      "Metadata : {'c_country': 'United Kingdom', 'c_product': 'product-flexacryl-instant-waterproof-compound', 'c_regions': ['Europe'], 'c_contentId': 'd3750c2b-fe22-4911-828d-a0a71f14ba75', 'c_language': 'en', 'c_regionCountry': ['United Kingdom'], 'c_market': ['Building & Construction'], 'c_pageType': 'product', 'c_bu': 'Bostik - Consumer & construction (C&C)', 'c_application1': ['Waterproofing'], 'c_application2': ['ROOFING (C&C)'], 'source': 'https://www.bostik.com/uk/en_GB/catalog/product/construction/emea/uk/product-flexacryl-instant-waterproof-compound/', 'namespace': 'llamaindex/sitemap', 'lastmod': 'Tue Oct 29 12:45:33 UTC 2024', 'project': 'llamaindex', 'generated_content': True, 'generated_content_mode': 'QAndA', 'generated_content_origin': \"The Company's total liability however arising and whether caused by tort (including negligence and breach of statutory duty), breach of contract or otherwise, arising in connection with the use made or resale by the Product User of any of the Products in this TDS (Technical Data Sheet) shall be limited to the price paid for the Product by the Product User. The Company shall not be liable to the Product User for any pure economic loss, loss of profit, loss of business, depletion of goodwill or otherwise, in each case whether direct, indirect or consequential, or any claims (including in respect of personal injury insofar as not caused by the Company's negligence) for consequential compensation whatsoever (howsoever caused) which arise out of or in connection with the use made or resale by the Product User of any of the Products in this TDS (Technical Data Sheet). The Company shall not be liable to the Product User in relation to any loss for any use that is inappropriate or use that is otherwise than in accordance with the relevant instructions for use of the Products in this TDS (Technical Data Sheet) or on the Product. Product Users are advised to confirm the suitability of the Products by their own tests. This TDS (Technical Data Sheet) covers just one of a large range of products supplied by the Company. Full information on these products and advice on application is freely available from our fully trained staff throughout the country. In addition, specialist technical advice is available from our Technical Services Department. This TDS (Technical Data Sheet) supersedes all previous TDSs relating to the Products, and users of it must ensure that it is the current issue. Destroy all previous TDS (Technical Data Sheet), and if in any doubt, contact the Company, quoting the code number in the top left-hand corner on the front of this document. Telephone: 01785 272625 Sales: [customer.service@bostik.com](mailto:customer.service@bostik.com) Technical advice: [technical.service@bostik.com](mailto:technical.service@bostik.com) Safety data sheets: sds.box-eu@bostik.com **DISCLAIMER** Bostik offers this Technical Data Sheet (“TDS (Technical Data Sheet)”) for descriptive and informational use only. It is not a warranty, a contract or a substitute for expert or professional advice. Please also see the local product Safety Data Sheet for health and safety considerations. The statements, technical information, data, and recommendations contained in this TDS (Technical Data Sheet) are provided ‘AS IS’ and are not warranted or guaranteed in any way. They represent typical results for the products and are based on Bostik’s research only.\"}\n",
      "Chatbot : Bostik Flexacryl Instant Repair is a versatile waterproofing compound designed for use on flat roofs. Here are some key points about the product:\n",
      "\n",
      "1. **Purpose**: Flexacryl is used for waterproofing and repairing flat roofs. It provides immediate waterproofing, making it ideal for emergency repairs or general maintenance.\n",
      "\n",
      "2. **Application**: \n",
      "   - It can be applied directly from the tin using a brush or trowel.\n",
      "   - Suitable for use on various substrates, including old roofing felt, asphalt, bituminous roof coatings, cement, concrete, leadwork, metal, brickwork, slate, and rigid PVC.\n",
      "   - Can be applied to both wet and dry surfaces, which is beneficial in damp conditions.\n",
      "\n",
      "3. **Features**:\n",
      "   - Single-coat application.\n",
      "   - Fibre-reinforced for added strength and flexibility.\n",
      "   - No primer is needed on sound, nonporous substrates.\n",
      "   - Available in black and grey colors.\n",
      "\n",
      "4. **Technical Characteristics**:\n",
      "   - Brushable and trowellable paste form.\n",
      "   - Resistant to most salt solutions, some dilute acids, and alkalis.\n",
      "   - Not resistant to oils, solvents, some detergent solutions, and some glass cleaning compounds.\n",
      "   - Provides immediate waterproofing with a drying time of 2 to 3 days, depending on conditions.\n",
      "\n",
      "5. **Storage**:\n",
      "   - Should be stored in a cool, dry place within the temperature range of +5°C to +25°C.\n",
      "   - Protect from frost and ensure the lid is secure during storage.\n",
      "\n",
      "6. **Safety**: Users should refer to the Health & Safety Data Sheet for detailed safety instructions, which is available on the Bostik website.\n",
      "\n",
      "Overall, Bostik Flexacryl Instant Repair is a reliable solution for waterproofing flat roofs, offering flexibility and durability for various roofing materials.\n",
      "Session terminée.\n"
     ]
    }
   ],
   "source": [
    "if __name__ == \"__main__\":\n",
    "    run_chatengine()"
   ]
  }
 ],
 "metadata": {
  "kernelspec": {
   "display_name": ".venv",
   "language": "python",
   "name": "python3"
  },
  "language_info": {
   "codemirror_mode": {
    "name": "ipython",
    "version": 3
   },
   "file_extension": ".py",
   "mimetype": "text/x-python",
   "name": "python",
   "nbconvert_exporter": "python",
   "pygments_lexer": "ipython3",
   "version": "3.11.3"
  }
 },
 "nbformat": 4,
 "nbformat_minor": 2
}
